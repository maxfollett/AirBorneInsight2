{
 "cells": [
  {
   "cell_type": "code",
   "execution_count": null,
   "id": "a1fcaf1a-8214-4f45-bbd9-5270d82143fb",
   "metadata": {},
   "outputs": [],
   "source": [
    "import pandas as pd\n",
    "\n",
    "def load_data_from_github(url):\n",
    "    \"\"\"\n",
    "    Load data from GitHub (or any raw URL).\n",
    "    \"\"\"\n",
    "    try:\n",
    "        data = pd.read_csv(url, delim_whitespace=True, header=None)\n",
    "    except Exception as e:\n",
    "        print(\"Error loading data:\", e)\n",
    "        return None\n",
    "\n",
    "    # Display a few rows for inspection\n",
    "    print(\"Raw data preview:\")\n",
    "    print(data.head())\n",
    "    \n",
    "    return data\n",
    "\n",
    "def clean_and_standardize_data(data, x_col=0, y_col=1, measurement_col=2):\n",
    "    \"\"\"\n",
    "    Keep only necessary columns: X, Y, and geophysical measurement.\n",
    "    Remove rows with missing values.\n",
    "    \"\"\"\n",
    "    # Select only X, Y, and measurement columns\n",
    "    data = data.iloc[:, [x_col, y_col, measurement_col]]\n",
    "    data.columns = ['X', 'Y', 'Measurement']  # Rename columns\n",
    "\n",
    "    # Drop rows with missing data\n",
    "    data = data.dropna()\n",
    "    data = data.drop_duplicates()  # Remove duplicates if any\n",
    "\n",
    "    print(\"Cleaned data preview:\")\n",
    "    print(data.head())\n",
    "    \n",
    "    return data\n",
    "\n",
    "def save_cleaned_data(data, filename):\n",
    "    \"\"\"\n",
    "    Save cleaned data to a .csv file for upload or further processing.\n",
    "    \"\"\"\n",
    "    data.to_csv(filename, index=False)\n",
    "    print(f\"Cleaned data saved to {filename}\")\n",
    "\n",
    "# Example usage\n",
    "# Replace with the actual raw URL to the .csv or .xyz file\n",
    "url = \"https://raw.githubusercontent.com/maxfollett/AirBorneInsight2/main/capdatabase/raw/isograv.xyz\"\n",
    "data = load_data_from_github(url)\n",
    "\n",
    "if data is not None:\n",
    "    cleaned_data = clean_and_standardize_data(data)\n",
    "    save_cleaned_data(cleaned_data, \"cleaned_data.csv\")\n",
    "else:\n",
    "    print(\"Data processing failed.\")\n"
   ]
  }
 ],
 "metadata": {
  "kernelspec": {
   "display_name": "Python 3 (ipykernel)",
   "language": "python",
   "name": "python3"
  },
  "language_info": {
   "codemirror_mode": {
    "name": "ipython",
    "version": 3
   },
   "file_extension": ".py",
   "mimetype": "text/x-python",
   "name": "python",
   "nbconvert_exporter": "python",
   "pygments_lexer": "ipython3",
   "version": "3.12.6"
  }
 },
 "nbformat": 4,
 "nbformat_minor": 5
}
